{
 "cells": [
  {
   "cell_type": "markdown",
   "id": "7441cdd4-7042-48e6-a2fc-7021def0d465",
   "metadata": {},
   "source": [
    "# Data Science Tools and Ecosystem"
   ]
  },
  {
   "cell_type": "markdown",
   "id": "41391772-60a1-4c25-818f-f99d365db4f3",
   "metadata": {},
   "source": [
    "In this notebook, Data Science Tools and Ecosystem are summarized."
   ]
  },
  {
   "cell_type": "markdown",
   "id": "dd54d6d0-92e2-4daf-b02e-1d77d7657da5",
   "metadata": {},
   "source": [
    "Some of the popular languages that Data Scientists use are:\n",
    "1. Python\n",
    "2. R\n",
    "3. SQL\n",
    "4. Julia\n",
    "5. Scala\n",
    "6. JavaScript\n",
    "7. Java"
   ]
  },
  {
   "cell_type": "markdown",
   "id": "ff64ad0a-5578-4699-8443-d77b9485901c",
   "metadata": {},
   "source": [
    "Some of the commonly used libraries used by Data Scientists include:\n",
    "1. Matplotlib\n",
    "2. NumPy\n",
    "3. Pandas\n",
    "4. Scikit-learn"
   ]
  },
  {
   "cell_type": "markdown",
   "id": "8fb0daf1-8ffb-4d57-afd1-93aaf75392de",
   "metadata": {},
   "source": [
    "\n",
    "|Data Science Tools|\n",
    "|------------------|\n",
    "|Apache Spark|\n",
    "|Apache Hadoop|\n",
    "|Jupyter Notebook|"
   ]
  },
  {
   "cell_type": "markdown",
   "id": "321d129f-5757-4413-8695-6c12cccbc7d2",
   "metadata": {},
   "source": [
    "### Below are a few examples of evaluating arithmetic expressions in Python"
   ]
  },
  {
   "cell_type": "code",
   "execution_count": 1,
   "id": "ffa3cd1f-050b-4f17-8486-83d59a87618f",
   "metadata": {},
   "outputs": [
    {
     "data": {
      "text/plain": [
       "17"
      ]
     },
     "execution_count": 1,
     "metadata": {},
     "output_type": "execute_result"
    }
   ],
   "source": [
    "# This is a simple arithmetic expression to multiply then add integers\n",
    "(3*4)+5"
   ]
  },
  {
   "cell_type": "code",
   "execution_count": 7,
   "id": "bf6289fd-5491-4c6f-a743-fd60644f4c69",
   "metadata": {},
   "outputs": [
    {
     "name": "stdout",
     "output_type": "stream",
     "text": [
      "3.33\n"
     ]
    }
   ],
   "source": [
    "# This will convert 200 minutes to hours by dividing by 60\n",
    "Minutes = 200\n",
    "Hours = Minutes/60\n",
    "print(round(Hours,2)) # rounded hours to 2 decimals"
   ]
  },
  {
   "cell_type": "markdown",
   "id": "7c6cc7cb-9744-4401-80d6-118abeadc10d",
   "metadata": {},
   "source": [
    "**Objectives:**\n",
    "* List popular languages for Data Science\n",
    "* Commonly used libraries by Data Scientists\n",
    "* Describing some Data Science Tools\n",
    "* Writing arithmetic expressions and covering comments in Python"
   ]
  },
  {
   "cell_type": "markdown",
   "id": "c50c7411-5d2f-4959-9cb5-a0dc63541b47",
   "metadata": {},
   "source": [
    "## Author\n",
    "Srinjay Dam"
   ]
  },
  {
   "cell_type": "code",
   "execution_count": null,
   "id": "140698f8-a3a4-4499-ab0a-b5c503a9861f",
   "metadata": {},
   "outputs": [],
   "source": []
  }
 ],
 "metadata": {
  "kernelspec": {
   "display_name": "Python 3 (ipykernel)",
   "language": "python",
   "name": "python3"
  },
  "language_info": {
   "codemirror_mode": {
    "name": "ipython",
    "version": 3
   },
   "file_extension": ".py",
   "mimetype": "text/x-python",
   "name": "python",
   "nbconvert_exporter": "python",
   "pygments_lexer": "ipython3",
   "version": "3.12.4"
  }
 },
 "nbformat": 4,
 "nbformat_minor": 5
}
